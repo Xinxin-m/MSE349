{
 "cells": [
  {
   "cell_type": "code",
   "execution_count": 1,
   "id": "6bff4829",
   "metadata": {},
   "outputs": [],
   "source": [
    "import os\n",
    "import pandas as pd\n",
    "import tqdm"
   ]
  },
  {
   "cell_type": "code",
   "execution_count": 2,
   "id": "75c1dda0",
   "metadata": {},
   "outputs": [],
   "source": [
    "in_folder_path = \"../data/Kraken_OHLCVT/\"\n",
    "out_folder_path = \"../data/Kraken_cleaned/\"\n",
    "all_files = os.listdir(in_folder_path)"
   ]
  },
  {
   "cell_type": "code",
   "execution_count": 3,
   "id": "2f788381",
   "metadata": {},
   "outputs": [],
   "source": [
    "usd_pairs = list(set([x.split(\"_\")[0] for x in all_files if \"USD_\" in x]))\n",
    "hr_pairs = [x for x in usd_pairs if x + \"_60.csv\" in all_files]\n",
    "hr_files = [x + \"_60.csv\" for x in hr_pairs]\n",
    "non_hr_pairs = [x for x in usd_pairs if x + \"_60.csv\" not in all_files]\n",
    "non_hr_files = [x + \"_1.csv\" for x in non_hr_pairs if x + \"_1.csv\" in all_files]"
   ]
  },
  {
   "cell_type": "code",
   "execution_count": 4,
   "id": "8e809a0a",
   "metadata": {},
   "outputs": [],
   "source": [
    "def add_colnames(input_data, column_names=['timestamp', 'open', 'high', 'low', 'close', 'volume', 'trades']):\n",
    "    if isinstance(input_data, str):\n",
    "        df = pd.read_csv(input_data, header=None)\n",
    "    elif isinstance(input_data, pd.DataFrame):\n",
    "        df = input_data.copy()\n",
    "    num_cols = df.shape[1]\n",
    "    num_expected = len(column_names)\n",
    "    \n",
    "    if num_cols != num_expected:\n",
    "        raise ValueError(f\"DataFrame has {num_cols} columns, but {num_expected} column names were provided: {column_names}\")\n",
    "    df.columns = column_names\n",
    "    return df"
   ]
  },
  {
   "cell_type": "code",
   "execution_count": 11,
   "id": "448ae2ca",
   "metadata": {},
   "outputs": [
    {
     "name": "stderr",
     "output_type": "stream",
     "text": [
      "100%|██████████| 1/1 [00:00<00:00,  2.08it/s]\n"
     ]
    }
   ],
   "source": [
    "for i in tqdm.tqdm(range(len(non_hr_files))):\n",
    "    try:\n",
    "        with open (in_folder_path + non_hr_files[i], 'r') as f:\n",
    "            first_line = f.readline()\n",
    "            if \"timestamp\" in first_line:\n",
    "                df = pd.read_csv(in_folder_path + non_hr_files[i])\n",
    "            else:\n",
    "                df = add_colnames(in_folder_path + non_hr_files[i])\n",
    "    except pd.errors.EmptyDataError:\n",
    "        continue\n",
    "    df['timestamp'] = pd.to_datetime(df['timestamp'], unit='s')\n",
    "    df = df.resample('h', on='timestamp').agg({\n",
    "        'open': 'first',\n",
    "        'high': 'max',\n",
    "        'low': 'min',\n",
    "        'close': 'last',\n",
    "        'volume': 'sum',\n",
    "        'trades': 'sum'\n",
    "    }).dropna().reset_index()\n",
    "    df.to_parquet(out_folder_path + non_hr_files[i].replace('.csv', '.parquet').replace(\"_1\", \"_60\"), index=False)"
   ]
  },
  {
   "cell_type": "code",
   "execution_count": 13,
   "id": "837be029",
   "metadata": {},
   "outputs": [
    {
     "name": "stderr",
     "output_type": "stream",
     "text": [
      "100%|██████████| 412/412 [00:08<00:00, 48.66it/s]\n"
     ]
    }
   ],
   "source": [
    "for i in tqdm.tqdm(range(len(hr_files))):\n",
    "    try:\n",
    "        df = add_colnames(in_folder_path + hr_files[i])\n",
    "    except pd.errors.EmptyDataError:\n",
    "        continue\n",
    "    df['timestamp'] = pd.to_datetime(df['timestamp'], unit='s')\n",
    "    df = df.resample('h', on='timestamp').agg({\n",
    "        'open': 'first',\n",
    "        'high': 'max',\n",
    "        'low': 'min',\n",
    "        'close': 'last',\n",
    "        'volume': 'sum',\n",
    "        'trades': 'sum'\n",
    "    }).dropna().reset_index()\n",
    "    df.to_parquet(out_folder_path + hr_files[i].replace('.csv', '.parquet'), index=False)"
   ]
  }
 ],
 "metadata": {
  "kernelspec": {
   "display_name": "Python 3",
   "language": "python",
   "name": "python3"
  },
  "language_info": {
   "codemirror_mode": {
    "name": "ipython",
    "version": 3
   },
   "file_extension": ".py",
   "mimetype": "text/x-python",
   "name": "python",
   "nbconvert_exporter": "python",
   "pygments_lexer": "ipython3",
   "version": "3.11.1"
  }
 },
 "nbformat": 4,
 "nbformat_minor": 5
}
